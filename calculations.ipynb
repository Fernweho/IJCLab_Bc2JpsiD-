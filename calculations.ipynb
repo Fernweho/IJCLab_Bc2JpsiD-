{
 "cells": [
  {
   "cell_type": "code",
   "execution_count": 19,
   "metadata": {},
   "outputs": [
    {
     "name": "stdout",
     "output_type": "stream",
     "text": [
      "BR_Bc_JpsiDs_kkpi: (8.1+/-1.5)e-06\n",
      "eps_fabian: 0.0078+/-0.0014\n",
      "-----------------------------\n",
      "BR_Bc_Jpsipi: 0.000960+/-0.000033\n",
      "BR_Bc_JpsiDs: 0.0051+/-0.0009\n",
      "BR_Bc_JpsiD: 0.00024+/-0.00005\n",
      "--------------------------\n",
      "super_br: (3.8+/-0.7)e-07\n",
      "--------------------------\n",
      "eps_norm: 0.027222184333333333+/-0\n",
      "eps_sig: 0.0020231563636363636+/-0\n",
      "BR_B_KJpsi_mumu: (5.96+/-0.13)e-05\n",
      "N_sig: 13.8+/-2.6\n"
     ]
    }
   ],
   "source": [
    "from uncertainties import ufloat\n",
    "\n",
    "\n",
    "R = ufloat(0.683e-2, 0.018e-2)\n",
    "BR_B_KJpsi = ufloat(1.02e-3, 0.019e-3)\n",
    "fc_fu=ufloat(7.26e-3, 0.08e-3)\n",
    "BR_Bc_JpsiDs_Bc_Jpsipi = ufloat(5.33, 0.96)\n",
    "Vcd = ufloat(0.218, 0.004)\n",
    "Vcs = ufloat(0.997, 0.017)\n",
    "BR_Jpsi_mumu = ufloat(5.84e-2, 0.06e-2)\n",
    "\n",
    "BR_D_D0pi = ufloat(67.7e-2, 0.5e-2)\n",
    "BR_D0_Kpi = ufloat(3.9e-2, 0.09e-2)\n",
    "\n",
    "BR_Ds_KKpi = ufloat(5.4e-2, 0)\n",
    "\n",
    "N_mc_norm_sel = 2360305\n",
    "N_mc_norm_gen = 15000000\n",
    "N_mc_sig_sel = 25728\n",
    "N_mc_sig_gen = 2200000\n",
    "\n",
    "N_norm = 2698130\n",
    "\n",
    "eps_acc = ufloat(17.3e-2, 0)  # If no uncertainty is given\n",
    "\n",
    "\n",
    "#calculating branch ratio\n",
    "BR_Bc_Jpsipi = (R*BR_B_KJpsi)/fc_fu\n",
    "BR_Bc_JpsiDs = BR_Bc_JpsiDs_Bc_Jpsipi*BR_Bc_Jpsipi\n",
    "\n",
    "BR_Bc_JpsiD = BR_Bc_JpsiDs * ((Vcd/Vcs)**2)\n",
    "\n",
    "#calculating number of signal events\n",
    "eps_norm = (N_mc_norm_sel/N_mc_norm_gen)*eps_acc\n",
    "eps_sig = (N_mc_sig_sel/N_mc_sig_gen)*eps_acc\n",
    "\n",
    "BR_B_KJpsi_mumu = BR_B_KJpsi*BR_Jpsi_mumu\n",
    "\n",
    "super_br = BR_Bc_JpsiD*BR_D_D0pi*BR_D0_Kpi*BR_Jpsi_mumu\n",
    "\n",
    "N_sig = 1.5*((BR_Bc_JpsiD*BR_D_D0pi*BR_D0_Kpi*BR_Jpsi_mumu*N_norm*eps_sig)/(BR_B_KJpsi_mumu*eps_norm))*fc_fu\n",
    "\n",
    "\n",
    "BR_Bc_JpsiDs_kkpi = BR_Jpsi_mumu*BR_Ds_KKpi*(BR_Bc_JpsiDs/2)\n",
    "\n",
    "\n",
    "eps_fabian = (1135*BR_B_KJpsi_mumu*eps_norm)/(1.5*BR_Bc_JpsiDs_kkpi*N_norm*fc_fu)\n",
    "\n",
    "\n",
    "print(f\"BR_Bc_JpsiDs_kkpi: {BR_Bc_JpsiDs_kkpi}\")\n",
    "print(f\"eps_fabian: {eps_fabian}\")\n",
    "print('-----------------------------')\n",
    "print(f\"BR_Bc_Jpsipi: {BR_Bc_Jpsipi}\") \n",
    "print(f\"BR_Bc_JpsiDs: {BR_Bc_JpsiDs}\") \n",
    "print(f\"BR_Bc_JpsiD: {BR_Bc_JpsiD}\") \n",
    "print(\"--------------------------\")\n",
    "print(f\"super_br: {super_br}\") \n",
    "print(\"--------------------------\")\n",
    "print(f\"eps_norm: {eps_norm}\")\n",
    "print(f\"eps_sig: {eps_sig}\")\n",
    "print(f\"BR_B_KJpsi_mumu: {BR_B_KJpsi_mumu}\")\n",
    "print(f\"N_sig: {N_sig}\")\n"
   ]
  },
  {
   "cell_type": "code",
   "execution_count": 11,
   "metadata": {},
   "outputs": [
    {
     "name": "stdout",
     "output_type": "stream",
     "text": [
      "eps_norm: 0.027222184333333333\n",
      "eps_sig: 0.0020231563636363636\n",
      "BR_B_KJpsi_mumu: (5.96+/-0.13)e-05\n",
      "N_sig: (6.0+/-1.1)e+05\n"
     ]
    }
   ],
   "source": [
    "BR_Jpsi_mumu = ufloat(5.84e-2, 0.06e-2)\n",
    "\n",
    "N_mc_norm_sel = 2360305\n",
    "N_mc_norm_gen = 15000000\n",
    "N_mc_sig_sel = 25728\n",
    "N_mc_sig_gen = 2200000\n",
    "\n",
    "N_norm = 2698130\n",
    "\n",
    "eps_acc = 17.3e-2\n",
    "\n",
    "eps_norm = (N_mc_norm_sel/N_mc_norm_gen)*eps_acc\n",
    "eps_sig = (N_mc_sig_sel/N_mc_sig_gen)*eps_acc\n",
    "\n",
    "BR_B_KJpsi_mumu = BR_B_KJpsi*BR_Jpsi_mumu\n",
    "\n",
    "N_sig = ((BR_Bc_JpsiD*N_norm*eps_sig)/(BR_B_KJpsi*BR_Jpsi_mumu*eps_norm))*fc_fu\n",
    "\n",
    "print(f\"eps_norm: {eps_norm}\")\n",
    "print(f\"eps_sig: {eps_sig}\")\n",
    "print(f\"BR_B_KJpsi_mumu: {BR_B_KJpsi_mumu}\")\n",
    "print(f\"N_sig: {N_sig}\")"
   ]
  }
 ],
 "metadata": {
  "kernelspec": {
   "display_name": "new_env",
   "language": "python",
   "name": "python3"
  },
  "language_info": {
   "codemirror_mode": {
    "name": "ipython",
    "version": 3
   },
   "file_extension": ".py",
   "mimetype": "text/x-python",
   "name": "python",
   "nbconvert_exporter": "python",
   "pygments_lexer": "ipython3",
   "version": "3.11.4"
  }
 },
 "nbformat": 4,
 "nbformat_minor": 2
}
